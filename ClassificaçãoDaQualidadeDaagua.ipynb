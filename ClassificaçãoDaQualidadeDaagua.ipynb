{
  "nbformat": 4,
  "nbformat_minor": 0,
  "metadata": {
    "colab": {
      "name": "ClassificaçãoDaQualidadeDaagua",
      "provenance": [],
      "collapsed_sections": [],
      "authorship_tag": "ABX9TyPfjmHCIiOHxc3Iw3cw/ujs",
      "include_colab_link": true
    },
    "kernelspec": {
      "name": "python3",
      "display_name": "Python 3"
    },
    "language_info": {
      "name": "python"
    }
  },
  "cells": [
    {
      "cell_type": "markdown",
      "metadata": {
        "id": "view-in-github",
        "colab_type": "text"
      },
      "source": [
        "<a href=\"https://colab.research.google.com/github/pastoril10/QualidadeDaAgua/blob/main/Classifica%C3%A7%C3%A3oDaQualidadeDaagua.ipynb\" target=\"_parent\"><img src=\"https://colab.research.google.com/assets/colab-badge.svg\" alt=\"Open In Colab\"/></a>"
      ]
    },
    {
      "cell_type": "markdown",
      "metadata": {
        "id": "PRE_pZHBCoB4"
      },
      "source": [
        "#Dicionario\n",
        "\n",
        "*   ph: pH da água (0 a 14).\n",
        "*   Hardness: Capacidade da água para precipitar o sabão em mg / L.\n",
        "\n",
        "*   Solids: Total de sólidos dissolvidos em ppm.\n",
        "\n",
        "*   Chloramines: Quantidade de cloraminas em ppm.\n",
        "\n",
        "*   Sulfate: Quantidade de sulfatos dissolvidos em mg / L.\n",
        "*   Conductivity: Condutividade elétrica da água em μS / cm.\n",
        "\n",
        "\n",
        "*   Organic_carbon: Quantidade de carbono orgânico em ppm.\n",
        "\n",
        "*   Trihalomethanes: Quantidade de trihalometanos em μg / L.\n",
        "\n",
        "\n",
        "*   Turbidity: Medida da propriedade de emissão de luz da água em NTU.\n",
        "\n",
        "*   Potability: Indica se a água é segura para consumo humano. Potável - 1 e Não potável -0\n",
        "\n",
        "\n",
        "\n",
        "### Unidades de medida\n",
        "\n",
        "ppm: parts per million\n",
        "\n",
        "μg/L: microgram per litre\n",
        "\n",
        "mg/L: milligram per litre"
      ]
    },
    {
      "cell_type": "code",
      "metadata": {
        "id": "DfK2KrA-AyFA"
      },
      "source": [
        "import pandas as pd\n",
        "import missingno\n",
        "import seaborn as sns\n",
        "import matplotlib.pyplot as plt\n",
        "import numpy as np\n",
        "\n",
        "\n",
        "#Modelos\n",
        "from sklearn.linear_model import LogisticRegression\n",
        "from sklearn.neighbors import KNeighborsClassifier\n",
        "from sklearn.ensemble import RandomForestClassifier\n",
        "from sklearn.tree import DecisionTreeClassifier\n",
        "from sklearn.externals import joblib\n",
        "from sklearn.preprocessing import StandardScaler\n",
        "from sklearn.pipeline import Pipeline\n",
        "from sklearn.model_selection import cross_val_score\n",
        "import warnings\n",
        "warnings.filterwarnings(\"ignore\")"
      ],
      "execution_count": 132,
      "outputs": []
    },
    {
      "cell_type": "code",
      "metadata": {
        "id": "Yjwo5JyQAvOp"
      },
      "source": [
        "df = pd.read_csv(\"water_potability.csv\")"
      ],
      "execution_count": 133,
      "outputs": []
    },
    {
      "cell_type": "code",
      "metadata": {
        "colab": {
          "base_uri": "https://localhost:8080/",
          "height": 200
        },
        "id": "RFiDcdGNA8Ok",
        "outputId": "c95c5be6-7f23-4e2c-f938-dd28cfca0f3e"
      },
      "source": [
        "df.head()"
      ],
      "execution_count": 134,
      "outputs": [
        {
          "output_type": "execute_result",
          "data": {
            "text/html": [
              "<div>\n",
              "<style scoped>\n",
              "    .dataframe tbody tr th:only-of-type {\n",
              "        vertical-align: middle;\n",
              "    }\n",
              "\n",
              "    .dataframe tbody tr th {\n",
              "        vertical-align: top;\n",
              "    }\n",
              "\n",
              "    .dataframe thead th {\n",
              "        text-align: right;\n",
              "    }\n",
              "</style>\n",
              "<table border=\"1\" class=\"dataframe\">\n",
              "  <thead>\n",
              "    <tr style=\"text-align: right;\">\n",
              "      <th></th>\n",
              "      <th>ph</th>\n",
              "      <th>Hardness</th>\n",
              "      <th>Solids</th>\n",
              "      <th>Chloramines</th>\n",
              "      <th>Sulfate</th>\n",
              "      <th>Conductivity</th>\n",
              "      <th>Organic_carbon</th>\n",
              "      <th>Trihalomethanes</th>\n",
              "      <th>Turbidity</th>\n",
              "      <th>Potability</th>\n",
              "    </tr>\n",
              "  </thead>\n",
              "  <tbody>\n",
              "    <tr>\n",
              "      <th>0</th>\n",
              "      <td>NaN</td>\n",
              "      <td>204.890455</td>\n",
              "      <td>20791.318981</td>\n",
              "      <td>7.300212</td>\n",
              "      <td>368.516441</td>\n",
              "      <td>564.308654</td>\n",
              "      <td>10.379783</td>\n",
              "      <td>86.990970</td>\n",
              "      <td>2.963135</td>\n",
              "      <td>0</td>\n",
              "    </tr>\n",
              "    <tr>\n",
              "      <th>1</th>\n",
              "      <td>3.716080</td>\n",
              "      <td>129.422921</td>\n",
              "      <td>18630.057858</td>\n",
              "      <td>6.635246</td>\n",
              "      <td>NaN</td>\n",
              "      <td>592.885359</td>\n",
              "      <td>15.180013</td>\n",
              "      <td>56.329076</td>\n",
              "      <td>4.500656</td>\n",
              "      <td>0</td>\n",
              "    </tr>\n",
              "    <tr>\n",
              "      <th>2</th>\n",
              "      <td>8.099124</td>\n",
              "      <td>224.236259</td>\n",
              "      <td>19909.541732</td>\n",
              "      <td>9.275884</td>\n",
              "      <td>NaN</td>\n",
              "      <td>418.606213</td>\n",
              "      <td>16.868637</td>\n",
              "      <td>66.420093</td>\n",
              "      <td>3.055934</td>\n",
              "      <td>0</td>\n",
              "    </tr>\n",
              "    <tr>\n",
              "      <th>3</th>\n",
              "      <td>8.316766</td>\n",
              "      <td>214.373394</td>\n",
              "      <td>22018.417441</td>\n",
              "      <td>8.059332</td>\n",
              "      <td>356.886136</td>\n",
              "      <td>363.266516</td>\n",
              "      <td>18.436524</td>\n",
              "      <td>100.341674</td>\n",
              "      <td>4.628771</td>\n",
              "      <td>0</td>\n",
              "    </tr>\n",
              "    <tr>\n",
              "      <th>4</th>\n",
              "      <td>9.092223</td>\n",
              "      <td>181.101509</td>\n",
              "      <td>17978.986339</td>\n",
              "      <td>6.546600</td>\n",
              "      <td>310.135738</td>\n",
              "      <td>398.410813</td>\n",
              "      <td>11.558279</td>\n",
              "      <td>31.997993</td>\n",
              "      <td>4.075075</td>\n",
              "      <td>0</td>\n",
              "    </tr>\n",
              "  </tbody>\n",
              "</table>\n",
              "</div>"
            ],
            "text/plain": [
              "         ph    Hardness        Solids  ...  Trihalomethanes  Turbidity  Potability\n",
              "0       NaN  204.890455  20791.318981  ...        86.990970   2.963135           0\n",
              "1  3.716080  129.422921  18630.057858  ...        56.329076   4.500656           0\n",
              "2  8.099124  224.236259  19909.541732  ...        66.420093   3.055934           0\n",
              "3  8.316766  214.373394  22018.417441  ...       100.341674   4.628771           0\n",
              "4  9.092223  181.101509  17978.986339  ...        31.997993   4.075075           0\n",
              "\n",
              "[5 rows x 10 columns]"
            ]
          },
          "metadata": {},
          "execution_count": 134
        }
      ]
    },
    {
      "cell_type": "markdown",
      "metadata": {
        "id": "MOzTpv5Xav7o"
      },
      "source": [
        "Existe dados faltantes? Sim!!"
      ]
    },
    {
      "cell_type": "code",
      "metadata": {
        "colab": {
          "base_uri": "https://localhost:8080/"
        },
        "id": "0NpWF3okI1Do",
        "outputId": "01c0c899-bfb1-4e82-af57-3eb685699779"
      },
      "source": [
        "df.isnull().sum()"
      ],
      "execution_count": 135,
      "outputs": [
        {
          "output_type": "execute_result",
          "data": {
            "text/plain": [
              "ph                 491\n",
              "Hardness             0\n",
              "Solids               0\n",
              "Chloramines          0\n",
              "Sulfate            781\n",
              "Conductivity         0\n",
              "Organic_carbon       0\n",
              "Trihalomethanes    162\n",
              "Turbidity            0\n",
              "Potability           0\n",
              "dtype: int64"
            ]
          },
          "metadata": {},
          "execution_count": 135
        }
      ]
    },
    {
      "cell_type": "code",
      "metadata": {
        "colab": {
          "base_uri": "https://localhost:8080/",
          "height": 407
        },
        "id": "Bu7kZq1MdXxo",
        "outputId": "51ef5a56-21b1-4a02-994f-eb5fa068c965"
      },
      "source": [
        "#Visualizando dados faltantes na forma de um mapa.\n",
        "missingno.matrix(df, figsize=(40,10))\n",
        "sns.heatmap(df.isnull())"
      ],
      "execution_count": 136,
      "outputs": [
        {
          "output_type": "execute_result",
          "data": {
            "text/plain": [
              "<matplotlib.axes._subplots.AxesSubplot at 0x7f6eac741bd0>"
            ]
          },
          "metadata": {},
          "execution_count": 136
        },
        {
          "output_type": "display_data",
          "data": {
            "image/png": "[encoded data removed]",
            "text/plain": [
              "<Figure size 2880x720 with 3 Axes>"
            ]
          },
          "metadata": {
            "needs_background": "light"
          }
        }
      ]
    },
    {
      "cell_type": "code",
      "metadata": {
        "colab": {
          "base_uri": "https://localhost:8080/"
        },
        "id": "UK_ug7JOI7z5",
        "outputId": "0ca2064c-3824-44c8-d2db-683c9d633314"
      },
      "source": [
        "df.shape"
      ],
      "execution_count": 137,
      "outputs": [
        {
          "output_type": "execute_result",
          "data": {
            "text/plain": [
              "(3276, 10)"
            ]
          },
          "metadata": {},
          "execution_count": 137
        }
      ]
    },
    {
      "cell_type": "markdown",
      "metadata": {
        "id": "Aj9ti6k9bGhL"
      },
      "source": [
        "### Potability: \n",
        "Indica se a água é segura para consumo humano. \n",
        "\n",
        "Potável - 1 \n",
        "\n",
        "Não potável - 0"
      ]
    },
    {
      "cell_type": "code",
      "metadata": {
        "colab": {
          "base_uri": "https://localhost:8080/"
        },
        "id": "hb_-z2-vbjJv",
        "outputId": "dcef6a9d-07dd-41b5-c0c9-6d2aa3e484d9"
      },
      "source": [
        "df.Potability.dtype"
      ],
      "execution_count": 138,
      "outputs": [
        {
          "output_type": "execute_result",
          "data": {
            "text/plain": [
              "dtype('int64')"
            ]
          },
          "metadata": {},
          "execution_count": 138
        }
      ]
    },
    {
      "cell_type": "code",
      "metadata": {
        "colab": {
          "base_uri": "https://localhost:8080/"
        },
        "id": "Be6z47p1BHdG",
        "outputId": "dff6e6df-c0e3-4fa4-a46b-7bcd04c9f98e"
      },
      "source": [
        "df.Potability.unique()"
      ],
      "execution_count": 139,
      "outputs": [
        {
          "output_type": "execute_result",
          "data": {
            "text/plain": [
              "array([0, 1])"
            ]
          },
          "metadata": {},
          "execution_count": 139
        }
      ]
    },
    {
      "cell_type": "code",
      "metadata": {
        "colab": {
          "base_uri": "https://localhost:8080/"
        },
        "id": "py2zPdEBb2Ax",
        "outputId": "49c1e44c-0b48-40d0-e539-eeed370ae619"
      },
      "source": [
        "df.Potability.value_counts()"
      ],
      "execution_count": 140,
      "outputs": [
        {
          "output_type": "execute_result",
          "data": {
            "text/plain": [
              "0    1998\n",
              "1    1278\n",
              "Name: Potability, dtype: int64"
            ]
          },
          "metadata": {},
          "execution_count": 140
        }
      ]
    },
    {
      "cell_type": "code",
      "metadata": {
        "id": "exHa_KtPaXoZ"
      },
      "source": [
        "df.rename(columns={\"Potability\":\"potabilidade\"}, inplace=True)"
      ],
      "execution_count": 141,
      "outputs": []
    },
    {
      "cell_type": "code",
      "metadata": {
        "colab": {
          "base_uri": "https://localhost:8080/",
          "height": 623
        },
        "id": "mQ1ctFxPnNkf",
        "outputId": "e31772e7-aa2c-4a22-a1b3-07b8c0e95de6"
      },
      "source": [
        "df.potabilidade.value_counts().plot(kind=\"bar\", color=[\"blue\", \"red\"], fontsize=12 , figsize=(10,10))\n",
        "plt.xlabel(\"0 - não potavel e 1 - potavel\", fontsize=15)\n",
        "plt.ylabel('Quantidade', fontsize=15)\n",
        "\n",
        "porc = (len(df[df.potabilidade == 1]) / len(df.potabilidade)) * 100\n",
        "        \n",
        "print('A porcentagem de agua potavel é de: {:.2f}%'.format(porc))\n",
        "\n",
        "plt.show()"
      ],
      "execution_count": 142,
      "outputs": [
        {
          "output_type": "stream",
          "name": "stdout",
          "text": [
            "A porcentagem de agua potavel é de: 39.01%\n"
          ]
        },
        {
          "output_type": "display_data",
          "data": {
            "image/png": "[encoded data removed]",
            "text/plain": [
              "<Figure size 720x720 with 1 Axes>"
            ]
          },
          "metadata": {
            "needs_background": "light"
          }
        }
      ]
    },
    {
      "cell_type": "markdown",
      "metadata": {
        "id": "aLK3QP1fmZN-"
      },
      "source": [
        "\n",
        "### Separando os dados em agua potavel e agua não potavel\n"
      ]
    },
    {
      "cell_type": "code",
      "metadata": {
        "id": "9aDYOicYgHTg"
      },
      "source": [
        "df_potavel = df[df[\"potabilidade\"]==1]\n",
        "df_naopotavel = df[df[\"potabilidade\"]==0]"
      ],
      "execution_count": 143,
      "outputs": []
    },
    {
      "cell_type": "code",
      "metadata": {
        "colab": {
          "base_uri": "https://localhost:8080/"
        },
        "id": "qmrDJtuygL2r",
        "outputId": "97fbc8bb-4d49-4fe1-c0f8-619423e424ce"
      },
      "source": [
        "#Tamanho do df para agua potavel\n",
        "df_potavel.shape"
      ],
      "execution_count": 144,
      "outputs": [
        {
          "output_type": "execute_result",
          "data": {
            "text/plain": [
              "(1278, 10)"
            ]
          },
          "metadata": {},
          "execution_count": 144
        }
      ]
    },
    {
      "cell_type": "code",
      "metadata": {
        "colab": {
          "base_uri": "https://localhost:8080/"
        },
        "id": "Wwty6-lBgOa4",
        "outputId": "7012ceb5-f767-41b3-f98c-50be7b7789e0"
      },
      "source": [
        "#Tamanho do df para agua não potavel\n",
        "df_naopotavel.shape"
      ],
      "execution_count": 145,
      "outputs": [
        {
          "output_type": "execute_result",
          "data": {
            "text/plain": [
              "(1998, 10)"
            ]
          },
          "metadata": {},
          "execution_count": 145
        }
      ]
    },
    {
      "cell_type": "code",
      "metadata": {
        "colab": {
          "base_uri": "https://localhost:8080/"
        },
        "id": "g7Av-Fs6gffE",
        "outputId": "54286172-282e-41f6-b38b-b349bfdb78b9"
      },
      "source": [
        "#A quantidade de dados faltantes para o df contendo somente os dados para agua potavel\n",
        "df_potavel.isnull().sum()"
      ],
      "execution_count": 146,
      "outputs": [
        {
          "output_type": "execute_result",
          "data": {
            "text/plain": [
              "ph                 177\n",
              "Hardness             0\n",
              "Solids               0\n",
              "Chloramines          0\n",
              "Sulfate            293\n",
              "Conductivity         0\n",
              "Organic_carbon       0\n",
              "Trihalomethanes     55\n",
              "Turbidity            0\n",
              "potabilidade         0\n",
              "dtype: int64"
            ]
          },
          "metadata": {},
          "execution_count": 146
        }
      ]
    },
    {
      "cell_type": "code",
      "metadata": {
        "colab": {
          "base_uri": "https://localhost:8080/"
        },
        "id": "G78X7LFZgg2t",
        "outputId": "1887a0b7-498c-4864-c90a-680aa6bd32b0"
      },
      "source": [
        "#A quantidade de dados faltantes para o df contendo somente os dados para agua não potavel\n",
        "df_naopotavel.isnull().sum()"
      ],
      "execution_count": 147,
      "outputs": [
        {
          "output_type": "execute_result",
          "data": {
            "text/plain": [
              "ph                 314\n",
              "Hardness             0\n",
              "Solids               0\n",
              "Chloramines          0\n",
              "Sulfate            488\n",
              "Conductivity         0\n",
              "Organic_carbon       0\n",
              "Trihalomethanes    107\n",
              "Turbidity            0\n",
              "potabilidade         0\n",
              "dtype: int64"
            ]
          },
          "metadata": {},
          "execution_count": 147
        }
      ]
    },
    {
      "cell_type": "code",
      "metadata": {
        "colab": {
          "base_uri": "https://localhost:8080/",
          "height": 108
        },
        "id": "5mySgp3dg475",
        "outputId": "4fe471b6-6f58-4065-c324-d7301908c1e7"
      },
      "source": [
        "#Análise da média (das colunas faltantes) para os dados de agua potavel e não potavel. \n",
        "#Verificar se tem diferença consideravel entre os valores.\n",
        "media = [df_naopotavel.mean(),df_potavel.mean()]\n",
        "df_media = pd.DataFrame(media)\n",
        "df_media.iloc[:,[0,4,7]]"
      ],
      "execution_count": 148,
      "outputs": [
        {
          "output_type": "execute_result",
          "data": {
            "text/html": [
              "<div>\n",
              "<style scoped>\n",
              "    .dataframe tbody tr th:only-of-type {\n",
              "        vertical-align: middle;\n",
              "    }\n",
              "\n",
              "    .dataframe tbody tr th {\n",
              "        vertical-align: top;\n",
              "    }\n",
              "\n",
              "    .dataframe thead th {\n",
              "        text-align: right;\n",
              "    }\n",
              "</style>\n",
              "<table border=\"1\" class=\"dataframe\">\n",
              "  <thead>\n",
              "    <tr style=\"text-align: right;\">\n",
              "      <th></th>\n",
              "      <th>ph</th>\n",
              "      <th>Sulfate</th>\n",
              "      <th>Trihalomethanes</th>\n",
              "    </tr>\n",
              "  </thead>\n",
              "  <tbody>\n",
              "    <tr>\n",
              "      <th>0</th>\n",
              "      <td>7.085378</td>\n",
              "      <td>334.56429</td>\n",
              "      <td>66.303555</td>\n",
              "    </tr>\n",
              "    <tr>\n",
              "      <th>1</th>\n",
              "      <td>7.073783</td>\n",
              "      <td>332.56699</td>\n",
              "      <td>66.539684</td>\n",
              "    </tr>\n",
              "  </tbody>\n",
              "</table>\n",
              "</div>"
            ],
            "text/plain": [
              "         ph    Sulfate  Trihalomethanes\n",
              "0  7.085378  334.56429        66.303555\n",
              "1  7.073783  332.56699        66.539684"
            ]
          },
          "metadata": {},
          "execution_count": 148
        }
      ]
    },
    {
      "cell_type": "markdown",
      "metadata": {
        "id": "6Ao5XSw8kukP"
      },
      "source": [
        "A diferença entre as médias é minima, sendo assim, podemos substituir os dados faltantes pela média. "
      ]
    },
    {
      "cell_type": "markdown",
      "metadata": {
        "id": "h0784E0BcRx2"
      },
      "source": [
        "### pH: \n",
        "pH da água (0 a 14).\n",
        "\n",
        "A OMS recomendou o limite máximo permitido de pH de 6,5 a 8,5. Os intervalos de investigação atuais foram de 6,52–6,83, que estão na faixa dos padrões da OMS."
      ]
    },
    {
      "cell_type": "code",
      "metadata": {
        "colab": {
          "base_uri": "https://localhost:8080/"
        },
        "id": "Yd9pMyL3cvZS",
        "outputId": "b0c7722d-603b-4425-c0b4-0d553d06375a"
      },
      "source": [
        "df.ph.dtype"
      ],
      "execution_count": 149,
      "outputs": [
        {
          "output_type": "execute_result",
          "data": {
            "text/plain": [
              "dtype('float64')"
            ]
          },
          "metadata": {},
          "execution_count": 149
        }
      ]
    },
    {
      "cell_type": "code",
      "metadata": {
        "colab": {
          "base_uri": "https://localhost:8080/"
        },
        "id": "wmFPXHygcDIX",
        "outputId": "21f13e81-f04e-408f-dd9e-eceeddb37811"
      },
      "source": [
        "df.ph.min()"
      ],
      "execution_count": 150,
      "outputs": [
        {
          "output_type": "execute_result",
          "data": {
            "text/plain": [
              "0.0"
            ]
          },
          "metadata": {},
          "execution_count": 150
        }
      ]
    },
    {
      "cell_type": "code",
      "metadata": {
        "colab": {
          "base_uri": "https://localhost:8080/"
        },
        "id": "pav-Yg6RcrJU",
        "outputId": "977d0d0e-6ec3-4d95-ce88-61d1a13cbe27"
      },
      "source": [
        "df.ph.max()"
      ],
      "execution_count": 151,
      "outputs": [
        {
          "output_type": "execute_result",
          "data": {
            "text/plain": [
              "13.999999999999998"
            ]
          },
          "metadata": {},
          "execution_count": 151
        }
      ]
    },
    {
      "cell_type": "code",
      "metadata": {
        "colab": {
          "base_uri": "https://localhost:8080/"
        },
        "id": "4MjqJIdvfU6p",
        "outputId": "8939e68d-c054-4140-d54e-79908d6eaafe"
      },
      "source": [
        "df.ph.mean()"
      ],
      "execution_count": 152,
      "outputs": [
        {
          "output_type": "execute_result",
          "data": {
            "text/plain": [
              "7.080794504276821"
            ]
          },
          "metadata": {},
          "execution_count": 152
        }
      ]
    },
    {
      "cell_type": "code",
      "metadata": {
        "colab": {
          "base_uri": "https://localhost:8080/",
          "height": 313
        },
        "id": "y0idR8Jwcty5",
        "outputId": "50244f7d-df28-4a7e-fd8c-17ed32d715f1"
      },
      "source": [
        "df.hist(\"ph\", bins = 30)"
      ],
      "execution_count": 153,
      "outputs": [
        {
          "output_type": "execute_result",
          "data": {
            "text/plain": [
              "array([[<matplotlib.axes._subplots.AxesSubplot object at 0x7f6eac0a0cd0>]],\n",
              "      dtype=object)"
            ]
          },
          "metadata": {},
          "execution_count": 153
        },
        {
          "output_type": "display_data",
          "data": {
            "image/png": "[encoded data removed]",
            "text/plain": [
              "<Figure size 432x288 with 1 Axes>"
            ]
          },
          "metadata": {
            "needs_background": "light"
          }
        }
      ]
    },
    {
      "cell_type": "code",
      "metadata": {
        "id": "qyKcR_V8f-UA"
      },
      "source": [
        "#Preenchendo os dados faltantes na coluna ph pela média.\n",
        "df.ph.fillna(df.ph.mean(), inplace=True)"
      ],
      "execution_count": 154,
      "outputs": []
    },
    {
      "cell_type": "markdown",
      "metadata": {
        "id": "824_Fw0tgh7z"
      },
      "source": [
        "### Hardness (Dureza)\n",
        "\n",
        "Capacidade da água para precipitar o sabão em mg / L.\n",
        "\n",
        "O tempo que a água está em contato com o material que produz dureza ajuda a determinar quanta dureza existe na água bruta. A dureza foi originalmente definida como a capacidade da água de precipitar o sabão causado pelo cálcio e magnésio."
      ]
    },
    {
      "cell_type": "code",
      "metadata": {
        "id": "jeqxlXhugNAV"
      },
      "source": [
        "df.rename(columns={\"Hardness\":\"dureza\"}, inplace=True)"
      ],
      "execution_count": 155,
      "outputs": []
    },
    {
      "cell_type": "code",
      "metadata": {
        "colab": {
          "base_uri": "https://localhost:8080/"
        },
        "id": "WEr4T_ZNhrUL",
        "outputId": "20783d5d-c462-4f4d-df51-9e87c8b6d28f"
      },
      "source": [
        "df.dureza.dtype"
      ],
      "execution_count": 156,
      "outputs": [
        {
          "output_type": "execute_result",
          "data": {
            "text/plain": [
              "dtype('float64')"
            ]
          },
          "metadata": {},
          "execution_count": 156
        }
      ]
    },
    {
      "cell_type": "code",
      "metadata": {
        "colab": {
          "base_uri": "https://localhost:8080/"
        },
        "id": "EA_c2qnGiRRz",
        "outputId": "1aa5a80a-a31c-4bf0-91b6-41e86733f881"
      },
      "source": [
        "df.dureza.min()"
      ],
      "execution_count": 157,
      "outputs": [
        {
          "output_type": "execute_result",
          "data": {
            "text/plain": [
              "47.431999999999995"
            ]
          },
          "metadata": {},
          "execution_count": 157
        }
      ]
    },
    {
      "cell_type": "code",
      "metadata": {
        "colab": {
          "base_uri": "https://localhost:8080/"
        },
        "id": "ptcqYBrtjeIr",
        "outputId": "06f2ae31-fed3-41fd-86a9-666f0888d815"
      },
      "source": [
        "df.dureza.max()"
      ],
      "execution_count": 158,
      "outputs": [
        {
          "output_type": "execute_result",
          "data": {
            "text/plain": [
              "323.124"
            ]
          },
          "metadata": {},
          "execution_count": 158
        }
      ]
    },
    {
      "cell_type": "code",
      "metadata": {
        "colab": {
          "base_uri": "https://localhost:8080/"
        },
        "id": "s0G8ofILjk49",
        "outputId": "6939e4a2-3fc1-41bf-8a4d-55e8044776f0"
      },
      "source": [
        "df.dureza.mean()"
      ],
      "execution_count": 159,
      "outputs": [
        {
          "output_type": "execute_result",
          "data": {
            "text/plain": [
              "196.36949601730177"
            ]
          },
          "metadata": {},
          "execution_count": 159
        }
      ]
    },
    {
      "cell_type": "code",
      "metadata": {
        "colab": {
          "base_uri": "https://localhost:8080/",
          "height": 313
        },
        "id": "bmBVbStVjhIQ",
        "outputId": "7866430d-1f6e-4cf1-e55b-68a70f8704e7"
      },
      "source": [
        "df.hist(\"dureza\", bins = 30)"
      ],
      "execution_count": 160,
      "outputs": [
        {
          "output_type": "execute_result",
          "data": {
            "text/plain": [
              "array([[<matplotlib.axes._subplots.AxesSubplot object at 0x7f6eabf83ed0>]],\n",
              "      dtype=object)"
            ]
          },
          "metadata": {},
          "execution_count": 160
        },
        {
          "output_type": "display_data",
          "data": {
            "image/png": "[encoded data removed]",
            "text/plain": [
              "<Figure size 432x288 with 1 Axes>"
            ]
          },
          "metadata": {
            "needs_background": "light"
          }
        }
      ]
    },
    {
      "cell_type": "markdown",
      "metadata": {
        "id": "RXxjuxkVkGUF"
      },
      "source": [
        "### Solids (Sólidos)\n",
        "\n",
        "Total de sólidos dissolvidos - TDS\n",
        "\n",
        "Este é o parâmetro importante para o uso da água. A água com alto valor de TDS indica que a água é altamente mineralizada. O limite desejável para o TDS é 500 mg /l e o limite máximo é 1000 mg /l, prescrito para beber."
      ]
    },
    {
      "cell_type": "code",
      "metadata": {
        "id": "iksXyMQCjjNj"
      },
      "source": [
        "df.rename(columns={\"Solids\":\"solidos\"}, inplace=True)"
      ],
      "execution_count": 161,
      "outputs": []
    },
    {
      "cell_type": "code",
      "metadata": {
        "colab": {
          "base_uri": "https://localhost:8080/"
        },
        "id": "DRAtd5yfknQc",
        "outputId": "1a34df7a-cbc3-4823-cf46-0eb8002c76ca"
      },
      "source": [
        "df.solidos.dtype"
      ],
      "execution_count": 162,
      "outputs": [
        {
          "output_type": "execute_result",
          "data": {
            "text/plain": [
              "dtype('float64')"
            ]
          },
          "metadata": {},
          "execution_count": 162
        }
      ]
    },
    {
      "cell_type": "code",
      "metadata": {
        "colab": {
          "base_uri": "https://localhost:8080/"
        },
        "id": "cfCYIT_2k6_1",
        "outputId": "966b2e32-413c-4972-e5ab-fc45ee45e579"
      },
      "source": [
        "df.solidos.min()"
      ],
      "execution_count": 163,
      "outputs": [
        {
          "output_type": "execute_result",
          "data": {
            "text/plain": [
              "320.942611274359"
            ]
          },
          "metadata": {},
          "execution_count": 163
        }
      ]
    },
    {
      "cell_type": "code",
      "metadata": {
        "colab": {
          "base_uri": "https://localhost:8080/"
        },
        "id": "tzt9iozzlboG",
        "outputId": "c440b666-01fa-4f06-b663-1b31a3d64cd4"
      },
      "source": [
        "df.solidos.max()"
      ],
      "execution_count": 164,
      "outputs": [
        {
          "output_type": "execute_result",
          "data": {
            "text/plain": [
              "61227.196007712126"
            ]
          },
          "metadata": {},
          "execution_count": 164
        }
      ]
    },
    {
      "cell_type": "code",
      "metadata": {
        "colab": {
          "base_uri": "https://localhost:8080/",
          "height": 313
        },
        "id": "3vVTXf5mldH5",
        "outputId": "5a6b7655-8d83-4af4-df89-18117f850f60"
      },
      "source": [
        "df.hist(\"solidos\", bins = 30)"
      ],
      "execution_count": 165,
      "outputs": [
        {
          "output_type": "execute_result",
          "data": {
            "text/plain": [
              "array([[<matplotlib.axes._subplots.AxesSubplot object at 0x7f6eabec5350>]],\n",
              "      dtype=object)"
            ]
          },
          "metadata": {},
          "execution_count": 165
        },
        {
          "output_type": "display_data",
          "data": {
            "image/png": "[encoded data removed]",
            "text/plain": [
              "<Figure size 432x288 with 1 Axes>"
            ]
          },
          "metadata": {
            "needs_background": "light"
          }
        }
      ]
    },
    {
      "cell_type": "code",
      "metadata": {
        "id": "t8jsC4ADllCs"
      },
      "source": [
        ""
      ],
      "execution_count": 165,
      "outputs": []
    },
    {
      "cell_type": "markdown",
      "metadata": {
        "id": "XrwRlxwOl24B"
      },
      "source": [
        "### Chloramines (Cloraminas)\n",
        "\n",
        "Quantidade de cloraminas em ppm.\n",
        "\n",
        "Os níveis de cloro de até 4 miligramas por litro (mg / L ou 4 partes por milhão (ppm)) são considerados seguros na água potável"
      ]
    },
    {
      "cell_type": "code",
      "metadata": {
        "id": "2ERROLLnmHPJ"
      },
      "source": [
        "df.rename(columns={\"Chloramines\":\"cloramina\"}, inplace = True)"
      ],
      "execution_count": 166,
      "outputs": []
    },
    {
      "cell_type": "code",
      "metadata": {
        "colab": {
          "base_uri": "https://localhost:8080/"
        },
        "id": "E7NdkBV_mTgS",
        "outputId": "726a04ff-2c10-4d55-d7da-48e5f9b8d45c"
      },
      "source": [
        "df.cloramina.dtype"
      ],
      "execution_count": 167,
      "outputs": [
        {
          "output_type": "execute_result",
          "data": {
            "text/plain": [
              "dtype('float64')"
            ]
          },
          "metadata": {},
          "execution_count": 167
        }
      ]
    },
    {
      "cell_type": "code",
      "metadata": {
        "colab": {
          "base_uri": "https://localhost:8080/"
        },
        "id": "4lkIeTQqmacy",
        "outputId": "f82833e9-f6fa-4847-a2a2-98c1f21ea8fb"
      },
      "source": [
        "df.cloramina.min()"
      ],
      "execution_count": 168,
      "outputs": [
        {
          "output_type": "execute_result",
          "data": {
            "text/plain": [
              "0.3520000000000003"
            ]
          },
          "metadata": {},
          "execution_count": 168
        }
      ]
    },
    {
      "cell_type": "code",
      "metadata": {
        "colab": {
          "base_uri": "https://localhost:8080/"
        },
        "id": "NpjHRUxqmdM2",
        "outputId": "d68be229-acef-4a50-83d9-60a3072fe266"
      },
      "source": [
        "df.cloramina.max()"
      ],
      "execution_count": 169,
      "outputs": [
        {
          "output_type": "execute_result",
          "data": {
            "text/plain": [
              "13.127000000000002"
            ]
          },
          "metadata": {},
          "execution_count": 169
        }
      ]
    },
    {
      "cell_type": "code",
      "metadata": {
        "colab": {
          "base_uri": "https://localhost:8080/"
        },
        "id": "nXUVTUuRmt-k",
        "outputId": "eee21445-ff67-4f22-e506-29cec8ddc319"
      },
      "source": [
        "df.cloramina.mean()"
      ],
      "execution_count": 170,
      "outputs": [
        {
          "output_type": "execute_result",
          "data": {
            "text/plain": [
              "7.122276793425787"
            ]
          },
          "metadata": {},
          "execution_count": 170
        }
      ]
    },
    {
      "cell_type": "code",
      "metadata": {
        "colab": {
          "base_uri": "https://localhost:8080/",
          "height": 313
        },
        "id": "prLP4gkwmlw9",
        "outputId": "576f479e-0090-4c46-c7d6-c6ef04d09071"
      },
      "source": [
        "df.hist(\"cloramina\", bins=30)"
      ],
      "execution_count": 171,
      "outputs": [
        {
          "output_type": "execute_result",
          "data": {
            "text/plain": [
              "array([[<matplotlib.axes._subplots.AxesSubplot object at 0x7f6eabe5d190>]],\n",
              "      dtype=object)"
            ]
          },
          "metadata": {},
          "execution_count": 171
        },
        {
          "output_type": "display_data",
          "data": {
            "image/png": "[encoded data removed]",
            "text/plain": [
              "<Figure size 432x288 with 1 Axes>"
            ]
          },
          "metadata": {
            "needs_background": "light"
          }
        }
      ]
    },
    {
      "cell_type": "markdown",
      "metadata": {
        "id": "zD3Q0mPlnkhs"
      },
      "source": [
        "### Sulfate (sulfato)\n",
        "\n",
        "Quantidade de sulfatos dissolvidos em mg / L.\n",
        "\n",
        "A concentração de sulfato na água do mar é de cerca de 2.700 miligramas por litro (mg / L). Varia de 3 a 30 mg / L na maioria dos suprimentos de água doce, embora concentrações muito mais altas (1000 mg / L) sejam encontradas em algumas localizações geográficas."
      ]
    },
    {
      "cell_type": "code",
      "metadata": {
        "id": "1gMXHqEfmrwn"
      },
      "source": [
        "df.rename(columns={\"Sulfate\":\"sulfato\"}, inplace=True)"
      ],
      "execution_count": 172,
      "outputs": []
    },
    {
      "cell_type": "code",
      "metadata": {
        "colab": {
          "base_uri": "https://localhost:8080/"
        },
        "id": "L59Qz3EEoxaM",
        "outputId": "998ec3ea-c447-4441-a175-ff91f686bdce"
      },
      "source": [
        "df.sulfato.dtype"
      ],
      "execution_count": 173,
      "outputs": [
        {
          "output_type": "execute_result",
          "data": {
            "text/plain": [
              "dtype('float64')"
            ]
          },
          "metadata": {},
          "execution_count": 173
        }
      ]
    },
    {
      "cell_type": "code",
      "metadata": {
        "colab": {
          "base_uri": "https://localhost:8080/"
        },
        "id": "Vnj23GHGo1_t",
        "outputId": "1f62a269-c9a5-47d9-86a8-7116d172022a"
      },
      "source": [
        "df.sulfato.min()"
      ],
      "execution_count": 174,
      "outputs": [
        {
          "output_type": "execute_result",
          "data": {
            "text/plain": [
              "129.00000000000003"
            ]
          },
          "metadata": {},
          "execution_count": 174
        }
      ]
    },
    {
      "cell_type": "code",
      "metadata": {
        "colab": {
          "base_uri": "https://localhost:8080/"
        },
        "id": "wdaqLAjNo36Y",
        "outputId": "04a78c0f-4e74-4c03-def1-aa24642b9f22"
      },
      "source": [
        "df.sulfato.max()"
      ],
      "execution_count": 175,
      "outputs": [
        {
          "output_type": "execute_result",
          "data": {
            "text/plain": [
              "481.03064230599716"
            ]
          },
          "metadata": {},
          "execution_count": 175
        }
      ]
    },
    {
      "cell_type": "code",
      "metadata": {
        "colab": {
          "base_uri": "https://localhost:8080/"
        },
        "id": "KZ6TiVh7o0bu",
        "outputId": "723b3f6c-9cc1-4beb-d124-bb346565849b"
      },
      "source": [
        "df.sulfato.mean()"
      ],
      "execution_count": 176,
      "outputs": [
        {
          "output_type": "execute_result",
          "data": {
            "text/plain": [
              "333.77577661081335"
            ]
          },
          "metadata": {},
          "execution_count": 176
        }
      ]
    },
    {
      "cell_type": "code",
      "metadata": {
        "colab": {
          "base_uri": "https://localhost:8080/"
        },
        "id": "OK1QddXCMv6K",
        "outputId": "d1885e75-1976-47f8-d377-1feaca8ee9df"
      },
      "source": [
        "#Quantidade de dados faltantes\n",
        "df.sulfato.isnull().sum()"
      ],
      "execution_count": 177,
      "outputs": [
        {
          "output_type": "execute_result",
          "data": {
            "text/plain": [
              "781"
            ]
          },
          "metadata": {},
          "execution_count": 177
        }
      ]
    },
    {
      "cell_type": "code",
      "metadata": {
        "id": "vfVY0odwMzzk"
      },
      "source": [
        "df.sulfato.fillna(df.sulfato.mean(), inplace=True)"
      ],
      "execution_count": 178,
      "outputs": []
    },
    {
      "cell_type": "code",
      "metadata": {
        "colab": {
          "base_uri": "https://localhost:8080/",
          "height": 313
        },
        "id": "4y1F27bMo7eM",
        "outputId": "7e2ffff0-c7aa-4ff7-a562-718811972b41"
      },
      "source": [
        "df.hist(\"sulfato\", bins=30)"
      ],
      "execution_count": 179,
      "outputs": [
        {
          "output_type": "execute_result",
          "data": {
            "text/plain": [
              "array([[<matplotlib.axes._subplots.AxesSubplot object at 0x7f6eabdf54d0>]],\n",
              "      dtype=object)"
            ]
          },
          "metadata": {},
          "execution_count": 179
        },
        {
          "output_type": "display_data",
          "data": {
            "image/png": "[encoded data removed]",
            "text/plain": [
              "<Figure size 432x288 with 1 Axes>"
            ]
          },
          "metadata": {
            "needs_background": "light"
          }
        }
      ]
    },
    {
      "cell_type": "code",
      "metadata": {
        "id": "vrOTUyeppCuZ"
      },
      "source": [
        ""
      ],
      "execution_count": 179,
      "outputs": []
    },
    {
      "cell_type": "markdown",
      "metadata": {
        "id": "5UaKCBvBpWP0"
      },
      "source": [
        "### Conductivity (condutividade)\n",
        "\n",
        "Condutividade elétrica da água em μS / cm.\n",
        "\n",
        "A condutividade elétrica (EC) realmente mede o processo iônico de uma solução que permite a transmissão de corrente. De acordo com os padrões da OMS, o valor de CE não deve exceder 400 μS / cm."
      ]
    },
    {
      "cell_type": "code",
      "metadata": {
        "id": "Vz1ZXJpcpezS"
      },
      "source": [
        "df.rename(columns={\"Conductivity\":\"condutividade\"}, inplace = True)"
      ],
      "execution_count": 180,
      "outputs": []
    },
    {
      "cell_type": "code",
      "metadata": {
        "colab": {
          "base_uri": "https://localhost:8080/"
        },
        "id": "ndvKvZ5SpoXF",
        "outputId": "233240f3-0c53-48cf-d1ca-ff26e4698dfe"
      },
      "source": [
        "df.condutividade.dtype"
      ],
      "execution_count": 181,
      "outputs": [
        {
          "output_type": "execute_result",
          "data": {
            "text/plain": [
              "dtype('float64')"
            ]
          },
          "metadata": {},
          "execution_count": 181
        }
      ]
    },
    {
      "cell_type": "code",
      "metadata": {
        "colab": {
          "base_uri": "https://localhost:8080/"
        },
        "id": "yUxFW2PfrGB-",
        "outputId": "5909b4fd-2369-4aaf-b137-bdc8baf6246a"
      },
      "source": [
        "df.condutividade.min()"
      ],
      "execution_count": 182,
      "outputs": [
        {
          "output_type": "execute_result",
          "data": {
            "text/plain": [
              "181.483753985146"
            ]
          },
          "metadata": {},
          "execution_count": 182
        }
      ]
    },
    {
      "cell_type": "code",
      "metadata": {
        "colab": {
          "base_uri": "https://localhost:8080/"
        },
        "id": "-xbkUoworJus",
        "outputId": "c509c1ae-5e24-45f8-fc54-cba701e07c86"
      },
      "source": [
        "df.condutividade.max()"
      ],
      "execution_count": 183,
      "outputs": [
        {
          "output_type": "execute_result",
          "data": {
            "text/plain": [
              "753.3426195583046"
            ]
          },
          "metadata": {},
          "execution_count": 183
        }
      ]
    },
    {
      "cell_type": "code",
      "metadata": {
        "colab": {
          "base_uri": "https://localhost:8080/"
        },
        "id": "yH9vT60HrLOf",
        "outputId": "e837e800-be6b-4e7f-adce-4100c49e2f18"
      },
      "source": [
        "df.condutividade.mean()"
      ],
      "execution_count": 184,
      "outputs": [
        {
          "output_type": "execute_result",
          "data": {
            "text/plain": [
              "426.2051106825521"
            ]
          },
          "metadata": {},
          "execution_count": 184
        }
      ]
    },
    {
      "cell_type": "code",
      "metadata": {
        "colab": {
          "base_uri": "https://localhost:8080/",
          "height": 313
        },
        "id": "vawhGb63rjPn",
        "outputId": "db5228e7-ebe0-41ea-95b6-927d53f9a3f3"
      },
      "source": [
        "df.hist(\"condutividade\", bins=30)"
      ],
      "execution_count": 185,
      "outputs": [
        {
          "output_type": "execute_result",
          "data": {
            "text/plain": [
              "array([[<matplotlib.axes._subplots.AxesSubplot object at 0x7f6eac8eb850>]],\n",
              "      dtype=object)"
            ]
          },
          "metadata": {},
          "execution_count": 185
        },
        {
          "output_type": "display_data",
          "data": {
            "image/png": "[encoded data removed]",
            "text/plain": [
              "<Figure size 432x288 with 1 Axes>"
            ]
          },
          "metadata": {
            "needs_background": "light"
          }
        }
      ]
    },
    {
      "cell_type": "code",
      "metadata": {
        "id": "OIUwyEY8r6Oo"
      },
      "source": [
        ""
      ],
      "execution_count": 185,
      "outputs": []
    },
    {
      "cell_type": "markdown",
      "metadata": {
        "id": "jOUdknxCMRRR"
      },
      "source": [
        "### Organic_carbon (Carbono Orgânico)\n",
        "\n",
        "Quantidade de carbono orgânico em ppm.\n",
        "\n",
        "De acordo com a US EPA, <2 mg / L como TOC em água tratada / potável e <4 mg / Lit em água de origem que é usada para tratamento.\n"
      ]
    },
    {
      "cell_type": "code",
      "metadata": {
        "id": "wXGGcSxhMeZd"
      },
      "source": [
        "df.rename(columns={\"Organic_carbon\": \"carbono\"}, inplace=True)"
      ],
      "execution_count": 186,
      "outputs": []
    },
    {
      "cell_type": "code",
      "metadata": {
        "colab": {
          "base_uri": "https://localhost:8080/"
        },
        "id": "0I5i-LFqNeS1",
        "outputId": "17712344-7111-4e9a-9c40-f49f1731d5ec"
      },
      "source": [
        "df.carbono.dtype"
      ],
      "execution_count": 187,
      "outputs": [
        {
          "output_type": "execute_result",
          "data": {
            "text/plain": [
              "dtype('float64')"
            ]
          },
          "metadata": {},
          "execution_count": 187
        }
      ]
    },
    {
      "cell_type": "code",
      "metadata": {
        "colab": {
          "base_uri": "https://localhost:8080/"
        },
        "id": "vEGE4hjlNgTq",
        "outputId": "9fdcc567-61e4-4776-fe56-c299eda922be"
      },
      "source": [
        "df.carbono.min()"
      ],
      "execution_count": 188,
      "outputs": [
        {
          "output_type": "execute_result",
          "data": {
            "text/plain": [
              "2.1999999999999886"
            ]
          },
          "metadata": {},
          "execution_count": 188
        }
      ]
    },
    {
      "cell_type": "code",
      "metadata": {
        "colab": {
          "base_uri": "https://localhost:8080/"
        },
        "id": "tBDkRdSXNigs",
        "outputId": "34a41011-8c7d-45f5-aa92-2676fa30daa0"
      },
      "source": [
        "df.carbono.max()"
      ],
      "execution_count": 189,
      "outputs": [
        {
          "output_type": "execute_result",
          "data": {
            "text/plain": [
              "28.300000000000008"
            ]
          },
          "metadata": {},
          "execution_count": 189
        }
      ]
    },
    {
      "cell_type": "code",
      "metadata": {
        "colab": {
          "base_uri": "https://localhost:8080/"
        },
        "id": "GtIP-VjUNlib",
        "outputId": "3297ff06-ec4a-4106-bb27-22389e03da6f"
      },
      "source": [
        "df.carbono.mean()"
      ],
      "execution_count": 190,
      "outputs": [
        {
          "output_type": "execute_result",
          "data": {
            "text/plain": [
              "14.28497024767734"
            ]
          },
          "metadata": {},
          "execution_count": 190
        }
      ]
    },
    {
      "cell_type": "code",
      "metadata": {
        "colab": {
          "base_uri": "https://localhost:8080/",
          "height": 313
        },
        "id": "jtlBmUr5Nm1B",
        "outputId": "cf954f1e-6bb4-4bf3-ec20-e3023bbdcc06"
      },
      "source": [
        "df.hist(\"carbono\", bins=30)"
      ],
      "execution_count": 191,
      "outputs": [
        {
          "output_type": "execute_result",
          "data": {
            "text/plain": [
              "array([[<matplotlib.axes._subplots.AxesSubplot object at 0x7f6eac80cfd0>]],\n",
              "      dtype=object)"
            ]
          },
          "metadata": {},
          "execution_count": 191
        },
        {
          "output_type": "display_data",
          "data": {
            "image/png": "[encoded data removed]",
            "text/plain": [
              "<Figure size 432x288 with 1 Axes>"
            ]
          },
          "metadata": {
            "needs_background": "light"
          }
        }
      ]
    },
    {
      "cell_type": "markdown",
      "metadata": {
        "id": "NTpodI5pOgrZ"
      },
      "source": [
        "### Trihalometanos (THMS)\n",
        "\n",
        "THMs são produtos químicos que podem ser encontrados na água tratada com cloro.\n",
        "Níveis de THM de até 80 ppm são considerados seguros na água potável."
      ]
    },
    {
      "cell_type": "code",
      "metadata": {
        "id": "RmAD4GaBNtnm"
      },
      "source": [
        "df.rename(columns={\"Trihalomethanes\": \"thms\"}, inplace=True)"
      ],
      "execution_count": 192,
      "outputs": []
    },
    {
      "cell_type": "code",
      "metadata": {
        "colab": {
          "base_uri": "https://localhost:8080/"
        },
        "id": "QajZabt9PiJC",
        "outputId": "16100bf7-3580-4dad-a949-d0342b99a5eb"
      },
      "source": [
        "df.thms.isnull().sum()"
      ],
      "execution_count": 193,
      "outputs": [
        {
          "output_type": "execute_result",
          "data": {
            "text/plain": [
              "162"
            ]
          },
          "metadata": {},
          "execution_count": 193
        }
      ]
    },
    {
      "cell_type": "code",
      "metadata": {
        "id": "_i_Ss86DP4h7"
      },
      "source": [
        "df.thms.fillna(df.thms.mean(), inplace=True)"
      ],
      "execution_count": 194,
      "outputs": []
    },
    {
      "cell_type": "code",
      "metadata": {
        "colab": {
          "base_uri": "https://localhost:8080/"
        },
        "id": "18YN-IpBO6bd",
        "outputId": "e03f006a-dfea-47e5-bbdd-c733ec6d8927"
      },
      "source": [
        "df.thms.dtype"
      ],
      "execution_count": 195,
      "outputs": [
        {
          "output_type": "execute_result",
          "data": {
            "text/plain": [
              "dtype('float64')"
            ]
          },
          "metadata": {},
          "execution_count": 195
        }
      ]
    },
    {
      "cell_type": "code",
      "metadata": {
        "colab": {
          "base_uri": "https://localhost:8080/"
        },
        "id": "wYCBUz8dO7nK",
        "outputId": "0017700a-8277-4242-db21-fd71de328a8a"
      },
      "source": [
        "df.thms.min()"
      ],
      "execution_count": 196,
      "outputs": [
        {
          "output_type": "execute_result",
          "data": {
            "text/plain": [
              "0.7379999999999995"
            ]
          },
          "metadata": {},
          "execution_count": 196
        }
      ]
    },
    {
      "cell_type": "code",
      "metadata": {
        "colab": {
          "base_uri": "https://localhost:8080/"
        },
        "id": "apNdd-FQPWAC",
        "outputId": "7c69f5fa-0d22-4427-def0-09e9b96f72b7"
      },
      "source": [
        "df.thms.max()"
      ],
      "execution_count": 197,
      "outputs": [
        {
          "output_type": "execute_result",
          "data": {
            "text/plain": [
              "124.0"
            ]
          },
          "metadata": {},
          "execution_count": 197
        }
      ]
    },
    {
      "cell_type": "code",
      "metadata": {
        "colab": {
          "base_uri": "https://localhost:8080/"
        },
        "id": "0ghq3yCYPXeN",
        "outputId": "7b420dee-81b7-411d-8f4c-ff159714b9ac"
      },
      "source": [
        "df.thms.mean()"
      ],
      "execution_count": 198,
      "outputs": [
        {
          "output_type": "execute_result",
          "data": {
            "text/plain": [
              "66.39629294676797"
            ]
          },
          "metadata": {},
          "execution_count": 198
        }
      ]
    },
    {
      "cell_type": "code",
      "metadata": {
        "colab": {
          "base_uri": "https://localhost:8080/",
          "height": 313
        },
        "id": "ptTSyvwQPY-f",
        "outputId": "60816b7e-6dc6-4d37-a237-4ab9e887d0a4"
      },
      "source": [
        "df.hist(\"thms\", bins=30)"
      ],
      "execution_count": 199,
      "outputs": [
        {
          "output_type": "execute_result",
          "data": {
            "text/plain": [
              "array([[<matplotlib.axes._subplots.AxesSubplot object at 0x7f6eac1e0e90>]],\n",
              "      dtype=object)"
            ]
          },
          "metadata": {},
          "execution_count": 199
        },
        {
          "output_type": "display_data",
          "data": {
            "image/png": "[encoded data removed]",
            "text/plain": [
              "<Figure size 432x288 with 1 Axes>"
            ]
          },
          "metadata": {
            "needs_background": "light"
          }
        }
      ]
    },
    {
      "cell_type": "markdown",
      "metadata": {
        "id": "srO_92nARG4n"
      },
      "source": [
        "### Turbidity (Turbidez)\n",
        "\n",
        "Medida da propriedade de emissão de luz da água em NTU.\n",
        "\n",
        "O valor médio de turvação obtido para o Wondo Genet Campus (0,98 NTU) é inferior ao valor recomendado pela OMS de 5,00 NTU."
      ]
    },
    {
      "cell_type": "code",
      "metadata": {
        "id": "Mfx9DQt-RPmB"
      },
      "source": [
        "df.rename(columns={\"Turbidity\":\"turbidez\"}, inplace=True)"
      ],
      "execution_count": 200,
      "outputs": []
    },
    {
      "cell_type": "code",
      "metadata": {
        "colab": {
          "base_uri": "https://localhost:8080/"
        },
        "id": "8LGeFua1RyFl",
        "outputId": "f4110ccc-67e4-47ee-f5d9-602f4513481e"
      },
      "source": [
        "df.turbidez.dtype"
      ],
      "execution_count": 201,
      "outputs": [
        {
          "output_type": "execute_result",
          "data": {
            "text/plain": [
              "dtype('float64')"
            ]
          },
          "metadata": {},
          "execution_count": 201
        }
      ]
    },
    {
      "cell_type": "code",
      "metadata": {
        "colab": {
          "base_uri": "https://localhost:8080/"
        },
        "id": "T5q7Q-ozRz5C",
        "outputId": "1b06cbe9-939c-4ae4-9e8d-5fee1e31f40f"
      },
      "source": [
        "df.turbidez.min()"
      ],
      "execution_count": 202,
      "outputs": [
        {
          "output_type": "execute_result",
          "data": {
            "text/plain": [
              "1.45"
            ]
          },
          "metadata": {},
          "execution_count": 202
        }
      ]
    },
    {
      "cell_type": "code",
      "metadata": {
        "colab": {
          "base_uri": "https://localhost:8080/"
        },
        "id": "HCnPds28R2io",
        "outputId": "708583a5-b964-4f6d-e98f-00abd9e495f2"
      },
      "source": [
        "df.turbidez.max()"
      ],
      "execution_count": 203,
      "outputs": [
        {
          "output_type": "execute_result",
          "data": {
            "text/plain": [
              "6.739"
            ]
          },
          "metadata": {},
          "execution_count": 203
        }
      ]
    },
    {
      "cell_type": "code",
      "metadata": {
        "colab": {
          "base_uri": "https://localhost:8080/"
        },
        "id": "7NFUdlBsR3__",
        "outputId": "32949eeb-272f-496d-d98a-75d7e4fbb55c"
      },
      "source": [
        "df.turbidez.mean()"
      ],
      "execution_count": 204,
      "outputs": [
        {
          "output_type": "execute_result",
          "data": {
            "text/plain": [
              "3.9667861697910576"
            ]
          },
          "metadata": {},
          "execution_count": 204
        }
      ]
    },
    {
      "cell_type": "code",
      "metadata": {
        "colab": {
          "base_uri": "https://localhost:8080/",
          "height": 313
        },
        "id": "bd7klBS0R8iO",
        "outputId": "cc4ae043-3abb-4a5a-afcb-ab9161a25aad"
      },
      "source": [
        "df.hist(\"turbidez\", bins=30)"
      ],
      "execution_count": 205,
      "outputs": [
        {
          "output_type": "execute_result",
          "data": {
            "text/plain": [
              "array([[<matplotlib.axes._subplots.AxesSubplot object at 0x7f6eac7c5410>]],\n",
              "      dtype=object)"
            ]
          },
          "metadata": {},
          "execution_count": 205
        },
        {
          "output_type": "display_data",
          "data": {
            "image/png": "[encoded data removed]",
            "text/plain": [
              "<Figure size 432x288 with 1 Axes>"
            ]
          },
          "metadata": {
            "needs_background": "light"
          }
        }
      ]
    },
    {
      "cell_type": "code",
      "metadata": {
        "id": "-NoKX0c4SgUf"
      },
      "source": [
        "cor_matrix = df.corr()"
      ],
      "execution_count": 206,
      "outputs": []
    },
    {
      "cell_type": "code",
      "metadata": {
        "colab": {
          "base_uri": "https://localhost:8080/",
          "height": 720
        },
        "id": "bQENO2OiTBLQ",
        "outputId": "7e1d6c40-0c2e-43d9-e349-d7c602182103"
      },
      "source": [
        "#Relações entre os fatores.\n",
        "cor_matrix = df.corr().round(5)\n",
        "plt.figure(figsize =  (15,12))\n",
        "sns.heatmap(cor_matrix, annot=True, linewidths=0.5, fmt=\".2f\", cmap=\"RdPu\")\n"
      ],
      "execution_count": 207,
      "outputs": [
        {
          "output_type": "execute_result",
          "data": {
            "text/plain": [
              "<matplotlib.axes._subplots.AxesSubplot at 0x7f6eabcc3ad0>"
            ]
          },
          "metadata": {},
          "execution_count": 207
        },
        {
          "output_type": "display_data",
          "data": {
            "image/png": "[encoded data removed]",
            "text/plain": [
              "<Figure size 1080x864 with 2 Axes>"
            ]
          },
          "metadata": {
            "needs_background": "light"
          }
        }
      ]
    },
    {
      "cell_type": "code",
      "metadata": {
        "colab": {
          "base_uri": "https://localhost:8080/"
        },
        "id": "gSclJxrCWJpX",
        "outputId": "d6844c95-4648-43a4-fe7d-c61367e1c7e0"
      },
      "source": [
        "df.isnull().sum()"
      ],
      "execution_count": 208,
      "outputs": [
        {
          "output_type": "execute_result",
          "data": {
            "text/plain": [
              "ph               0\n",
              "dureza           0\n",
              "solidos          0\n",
              "cloramina        0\n",
              "sulfato          0\n",
              "condutividade    0\n",
              "carbono          0\n",
              "thms             0\n",
              "turbidez         0\n",
              "potabilidade     0\n",
              "dtype: int64"
            ]
          },
          "metadata": {},
          "execution_count": 208
        }
      ]
    },
    {
      "cell_type": "code",
      "metadata": {
        "colab": {
          "base_uri": "https://localhost:8080/",
          "height": 682
        },
        "id": "1EkYHEhYqO3r",
        "outputId": "4d4c5a09-c9b5-4816-807a-66f40e68ec8b"
      },
      "source": [
        "c = RandomForestClassifier()\n",
        "c.fit(X,y)\n",
        "\n",
        "var = X.columns\n",
        "importancia = pd.DataFrame()\n",
        "\n",
        "importancia['features'] = var\n",
        "importancia['importancia'] = c.feature_importances_\n",
        "importancia = importancia.sort_values(by=['importancia'],ascending=True)\n",
        "\n",
        "explode = (0, 0.12, 0, 0.1, 0, 0)\n",
        "labels = importancia['features']\n",
        "valores = importancia['importancia']\n",
        "\n",
        "plt.figure(figsize=(18,12))\n",
        "plt.pie(valores, labels=labels, autopct='%1.1f%%', textprops={'fontsize': 14})\n",
        "plt.show()"
      ],
      "execution_count": 226,
      "outputs": [
        {
          "output_type": "display_data",
          "data": {
            "image/png": "[encoded data removed]",
            "text/plain": [
              "<Figure size 1296x864 with 1 Axes>"
            ]
          },
          "metadata": {}
        }
      ]
    },
    {
      "cell_type": "markdown",
      "metadata": {
        "id": "jOcsLZKvvlsS"
      },
      "source": [
        "No gráfico de pizza podemos ver como a importância de cada componente é muito semelhante à dos outros. É óbvio como o pH e o sulfato, acima de tudo, têm uma importância muito proeminente em relação aos demais, mas entre os demais componentes a importância de cada um deles é muito semelhante à dos demais. Por isso decidimos que não há variável que valha a pena eliminar, pois se eliminarmos, por exemplo, Turbidez, não há razão para não eliminarmos também a Condutividade ou os Sólidos, pois é óbvio que todos eles têm uma importância muito semelhante.\n"
      ]
    },
    {
      "cell_type": "code",
      "metadata": {
        "colab": {
          "base_uri": "https://localhost:8080/",
          "height": 351
        },
        "id": "PdfosAL0usZa",
        "outputId": "66881abe-f48a-4eba-98cd-6455e08bfed1"
      },
      "source": [
        "importancia.set_index(\"features\", inplace=True)\n",
        "importancia"
      ],
      "execution_count": 210,
      "outputs": [
        {
          "output_type": "execute_result",
          "data": {
            "text/html": [
              "<div>\n",
              "<style scoped>\n",
              "    .dataframe tbody tr th:only-of-type {\n",
              "        vertical-align: middle;\n",
              "    }\n",
              "\n",
              "    .dataframe tbody tr th {\n",
              "        vertical-align: top;\n",
              "    }\n",
              "\n",
              "    .dataframe thead th {\n",
              "        text-align: right;\n",
              "    }\n",
              "</style>\n",
              "<table border=\"1\" class=\"dataframe\">\n",
              "  <thead>\n",
              "    <tr style=\"text-align: right;\">\n",
              "      <th></th>\n",
              "      <th>importancia</th>\n",
              "    </tr>\n",
              "    <tr>\n",
              "      <th>features</th>\n",
              "      <th></th>\n",
              "    </tr>\n",
              "  </thead>\n",
              "  <tbody>\n",
              "    <tr>\n",
              "      <th>thms</th>\n",
              "      <td>0.095818</td>\n",
              "    </tr>\n",
              "    <tr>\n",
              "      <th>turbidez</th>\n",
              "      <td>0.096059</td>\n",
              "    </tr>\n",
              "    <tr>\n",
              "      <th>carbono</th>\n",
              "      <td>0.099171</td>\n",
              "    </tr>\n",
              "    <tr>\n",
              "      <th>condutividade</th>\n",
              "      <td>0.100161</td>\n",
              "    </tr>\n",
              "    <tr>\n",
              "      <th>solidos</th>\n",
              "      <td>0.111938</td>\n",
              "    </tr>\n",
              "    <tr>\n",
              "      <th>cloramina</th>\n",
              "      <td>0.114497</td>\n",
              "    </tr>\n",
              "    <tr>\n",
              "      <th>dureza</th>\n",
              "      <td>0.124998</td>\n",
              "    </tr>\n",
              "    <tr>\n",
              "      <th>ph</th>\n",
              "      <td>0.127308</td>\n",
              "    </tr>\n",
              "    <tr>\n",
              "      <th>sulfato</th>\n",
              "      <td>0.130051</td>\n",
              "    </tr>\n",
              "  </tbody>\n",
              "</table>\n",
              "</div>"
            ],
            "text/plain": [
              "               importancia\n",
              "features                  \n",
              "thms              0.095818\n",
              "turbidez          0.096059\n",
              "carbono           0.099171\n",
              "condutividade     0.100161\n",
              "solidos           0.111938\n",
              "cloramina         0.114497\n",
              "dureza            0.124998\n",
              "ph                0.127308\n",
              "sulfato           0.130051"
            ]
          },
          "metadata": {},
          "execution_count": 210
        }
      ]
    },
    {
      "cell_type": "markdown",
      "metadata": {
        "id": "7KK79PhGnJ7-"
      },
      "source": [
        "## Separando os dados em dados de teste e dados de treino"
      ]
    },
    {
      "cell_type": "code",
      "metadata": {
        "id": "K-wNsPLiqLag"
      },
      "source": [
        "from sklearn.model_selection import train_test_split"
      ],
      "execution_count": 211,
      "outputs": []
    },
    {
      "cell_type": "code",
      "metadata": {
        "id": "yXsKyMM4kyVW"
      },
      "source": [
        "X = df.drop(\"potabilidade\", axis=1)\n",
        "y = df.potabilidade\n",
        "X_train , X_test , y_train , y_test = train_test_split(X , y, test_size=0.2)"
      ],
      "execution_count": 234,
      "outputs": []
    },
    {
      "cell_type": "code",
      "metadata": {
        "id": "i2F8Ng_z1TkI"
      },
      "source": [
        "models = {\n",
        "    \"KNN\": KNeighborsClassifier(),\n",
        "    \"LogisticRegression\": LogisticRegression(),\n",
        "    \"RandomForest\": RandomForestClassifier(),\n",
        "    \"DecisionTree\": DecisionTreeClassifier()\n",
        "}"
      ],
      "execution_count": 235,
      "outputs": []
    },
    {
      "cell_type": "code",
      "metadata": {
        "id": "zvcC-ibx2t1d"
      },
      "source": [
        "def fit_and_score(models, X_train, X_test, y_train, y_test):\n",
        "    np.random.seed(42)\n",
        "    model_scores = {}\n",
        "    \n",
        "    for name, model in models.items():\n",
        "        model.fit(X_train, y_train)\n",
        "        model_scores[name] = model.score(X_test, y_test)\n",
        "    return model_scores"
      ],
      "execution_count": 236,
      "outputs": []
    },
    {
      "cell_type": "code",
      "metadata": {
        "colab": {
          "base_uri": "https://localhost:8080/"
        },
        "id": "1yL_GNDx2wZ3",
        "outputId": "f4cd8c2c-1016-4331-9eba-e41c1ee6f98b"
      },
      "source": [
        "model_scores = fit_and_score(models=models, X_train=X_train, X_test=X_test, y_train= y_train, y_test= y_test)\n",
        "\n",
        "model_scores"
      ],
      "execution_count": 237,
      "outputs": [
        {
          "output_type": "execute_result",
          "data": {
            "text/plain": [
              "{'DecisionTree': 0.6112804878048781,\n",
              " 'KNN': 0.5594512195121951,\n",
              " 'LogisticRegression': 0.600609756097561,\n",
              " 'RandomForest': 0.6798780487804879}"
            ]
          },
          "metadata": {},
          "execution_count": 237
        }
      ]
    },
    {
      "cell_type": "code",
      "metadata": {
        "colab": {
          "base_uri": "https://localhost:8080/",
          "height": 78
        },
        "id": "uovAtrv66Aoj",
        "outputId": "89548901-1274-47f8-e473-85662fd06973"
      },
      "source": [
        "com_model = pd.DataFrame(model_scores, index=[\"accuracy\"])\n",
        "com_model"
      ],
      "execution_count": 238,
      "outputs": [
        {
          "output_type": "execute_result",
          "data": {
            "text/html": [
              "<div>\n",
              "<style scoped>\n",
              "    .dataframe tbody tr th:only-of-type {\n",
              "        vertical-align: middle;\n",
              "    }\n",
              "\n",
              "    .dataframe tbody tr th {\n",
              "        vertical-align: top;\n",
              "    }\n",
              "\n",
              "    .dataframe thead th {\n",
              "        text-align: right;\n",
              "    }\n",
              "</style>\n",
              "<table border=\"1\" class=\"dataframe\">\n",
              "  <thead>\n",
              "    <tr style=\"text-align: right;\">\n",
              "      <th></th>\n",
              "      <th>KNN</th>\n",
              "      <th>LogisticRegression</th>\n",
              "      <th>RandomForest</th>\n",
              "      <th>DecisionTree</th>\n",
              "    </tr>\n",
              "  </thead>\n",
              "  <tbody>\n",
              "    <tr>\n",
              "      <th>accuracy</th>\n",
              "      <td>0.559451</td>\n",
              "      <td>0.60061</td>\n",
              "      <td>0.679878</td>\n",
              "      <td>0.61128</td>\n",
              "    </tr>\n",
              "  </tbody>\n",
              "</table>\n",
              "</div>"
            ],
            "text/plain": [
              "               KNN  LogisticRegression  RandomForest  DecisionTree\n",
              "accuracy  0.559451             0.60061      0.679878       0.61128"
            ]
          },
          "metadata": {},
          "execution_count": 238
        }
      ]
    },
    {
      "cell_type": "code",
      "metadata": {
        "id": "knlVR-UlSqab"
      },
      "source": [
        ""
      ],
      "execution_count": null,
      "outputs": []
    },
    {
      "cell_type": "code",
      "metadata": {
        "colab": {
          "base_uri": "https://localhost:8080/",
          "height": 690
        },
        "id": "da-iIcBlSo5P",
        "outputId": "05c595bf-da9d-4229-fe5a-deebadfa8998"
      },
      "source": [
        "model_comparacao = pd.DataFrame(model_scores, index=['accuracy'])\n",
        "model_comparacao.T.plot.bar(figsize=(10,10))\n"
      ],
      "execution_count": 242,
      "outputs": [
        {
          "output_type": "execute_result",
          "data": {
            "text/plain": [
              "<matplotlib.axes._subplots.AxesSubplot at 0x7f6eab6c5350>"
            ]
          },
          "metadata": {},
          "execution_count": 242
        },
        {
          "output_type": "display_data",
          "data": {
            "image/png": "[encoded data removed]",
            "text/plain": [
              "<Figure size 720x720 with 1 Axes>"
            ]
          },
          "metadata": {
            "needs_background": "light"
          }
        }
      ]
    },
    {
      "cell_type": "markdown",
      "metadata": {
        "id": "MZaIbPLaTNpd"
      },
      "source": [
        "O modelo com maior precisão foi Random Forest com aproximadamente 68%."
      ]
    }
  ]
}